{
  "nbformat": 4,
  "nbformat_minor": 0,
  "metadata": {
    "colab": {
      "name": "arc_ga_task1.ipynb",
      "provenance": [],
      "collapsed_sections": [],
      "authorship_tag": "ABX9TyOPpFpAF9bF5BBLT23FbRvO",
      "include_colab_link": true
    },
    "kernelspec": {
      "name": "python3",
      "display_name": "Python 3"
    },
    "language_info": {
      "name": "python"
    }
  },
  "cells": [
    {
      "cell_type": "markdown",
      "metadata": {
        "id": "view-in-github",
        "colab_type": "text"
      },
      "source": [
        "<a href=\"https://colab.research.google.com/github/subratpp0/subratpp0/blob/main/arc_ga_task1.ipynb\" target=\"_parent\"><img src=\"https://colab.research.google.com/assets/colab-badge.svg\" alt=\"Open In Colab\"/></a>"
      ]
    },
    {
      "cell_type": "markdown",
      "metadata": {
        "id": "DOrklgh2ssBV"
      },
      "source": [
        "# **ARC Task1 with Genetic Algorithm**"
      ]
    },
    {
      "cell_type": "code",
      "metadata": {
        "id": "Jluixko8sDa4"
      },
      "source": [
        "import numpy as np\n",
        "import pandas as pd\n",
        "import itertools\n",
        "import random\n",
        "\n",
        "import os\n",
        "import json\n",
        "from pathlib import Path\n",
        "\n",
        "import matplotlib.pyplot as plt\n",
        "from matplotlib import colors"
      ],
      "execution_count": 180,
      "outputs": []
    },
    {
      "cell_type": "code",
      "metadata": {
        "colab": {
          "base_uri": "https://localhost:8080/"
        },
        "id": "K04KBbn6udHt",
        "outputId": "4ee6597c-7ed0-4499-a405-ae41c92f9599"
      },
      "source": [
        "# Download dataset to google colab\n",
        "!git clone https://github.com/fchollet/ARC.git"
      ],
      "execution_count": 181,
      "outputs": [
        {
          "output_type": "stream",
          "name": "stdout",
          "text": [
            "fatal: destination path 'ARC' already exists and is not an empty directory.\n"
          ]
        }
      ]
    },
    {
      "cell_type": "code",
      "metadata": {
        "id": "pS0jxtOqs6g7"
      },
      "source": [
        "data_path = Path('ARC/data')\n",
        "training_path = data_path / 'training'\n",
        "test_path = data_path / 'evaluation'\n",
        "training_tasks = sorted(os.listdir(training_path)) # retruns list of name of json file in sorted order"
      ],
      "execution_count": 182,
      "outputs": []
    },
    {
      "cell_type": "code",
      "metadata": {
        "colab": {
          "base_uri": "https://localhost:8080/"
        },
        "id": "cIprOVnGwnrl",
        "outputId": "deabde2a-705d-4e5c-b08b-8db504ede7ce"
      },
      "source": [
        "task1 = training_path / 'ed36ccf7.json' # example easy task\n",
        "task1"
      ],
      "execution_count": 183,
      "outputs": [
        {
          "output_type": "execute_result",
          "data": {
            "text/plain": [
              "PosixPath('ARC/data/training/ed36ccf7.json')"
            ]
          },
          "metadata": {},
          "execution_count": 183
        }
      ]
    },
    {
      "cell_type": "markdown",
      "metadata": {
        "id": "NeRDHy8Uyp8W"
      },
      "source": [
        "## Visualization of Task"
      ]
    },
    {
      "cell_type": "code",
      "metadata": {
        "id": "qGfe_Hxks6R9"
      },
      "source": [
        "#\n",
        "# This code is used to display a task\n",
        "# It accepts 11 colors, one more than the images, in case we want to use it\n",
        "#\n",
        "\n",
        "cmap = colors.ListedColormap(\n",
        "        ['#000000', '#0074D9','#FF4136','#2ECC40','#FFDC00',\n",
        "         '#AAAAAA', '#F012BE', '#FF851B', '#7FDBFF', '#870C25','#4a4d4a'])\n",
        "norm = colors.Normalize(vmin=0, vmax=10)\n",
        "def plot_one(ax, i,train_or_test,input_or_output):\n",
        "    cmap = colors.ListedColormap(\n",
        "        ['#000000', '#0074D9','#FF4136','#2ECC40','#FFDC00',\n",
        "         '#AAAAAA', '#F012BE', '#FF851B', '#7FDBFF', '#870C25','#4a4d4a'])\n",
        "    norm = colors.Normalize(vmin=0, vmax=10)\n",
        "    \n",
        "    input_matrix = task[train_or_test][i][input_or_output]\n",
        "    ax.imshow(input_matrix, cmap=cmap, norm=norm)\n",
        "    ax.grid(True,which='both',color='lightgrey', linewidth=0.5)    \n",
        "    ax.set_yticks([x-0.5 for x in range(1+len(input_matrix))])\n",
        "    ax.set_xticks([x-0.5 for x in range(1+len(input_matrix[0]))])     \n",
        "    ax.set_xticklabels([])\n",
        "    ax.set_yticklabels([])\n",
        "    ax.set_title(train_or_test + ' '+input_or_output)\n",
        "    \n",
        "\n",
        "def plot_task(task):\n",
        "    \"\"\"\n",
        "    Plots the first train and test pairs of a specified task,\n",
        "    using same color scheme as the ARC app\n",
        "    \"\"\"    \n",
        "    num_train = len(task['train'])\n",
        "    fig, axs = plt.subplots(2, num_train, figsize=(3*num_train,3*2))\n",
        "    for i in range(num_train):     \n",
        "        plot_one(axs[0,i],i,'train','input')\n",
        "        plot_one(axs[1,i],i,'train','output')        \n",
        "    plt.tight_layout()\n",
        "    plt.show()        \n",
        "        \n",
        "    num_test = len(task['test'])\n",
        "    fig, axs = plt.subplots(2, num_test, figsize=(3*num_test,3*2))\n",
        "    if num_test==1: \n",
        "        plot_one(axs[0],0,'test','input')\n",
        "        plot_one(axs[1],0,'test','output')     \n",
        "    else:\n",
        "        for i in range(num_test):      \n",
        "            plot_one(axs[0,i],i,'test','input')\n",
        "            plot_one(axs[1,i],i,'test','output')  \n",
        "    plt.tight_layout()\n",
        "    plt.show() \n",
        "\n",
        "    \n",
        "# Display each output of the function\n",
        "def show_image_list(images):\n",
        "    \"\"\" Show each image contained in a list. \"\"\"\n",
        "    p = plt.figure(figsize=[17,5]).subplots(1, len(images))\n",
        "    \n",
        "    if len(images) > 1:\n",
        "        for i, image in enumerate(images):\n",
        "            p[i].imshow(image, cmap=cmap, norm=norm)\n",
        "    elif len(images) == 1:\n",
        "        p.imshow(images[0], cmap=cmap, norm=norm)"
      ],
      "execution_count": 184,
      "outputs": []
    },
    {
      "cell_type": "code",
      "metadata": {
        "colab": {
          "base_uri": "https://localhost:8080/",
          "height": 868
        },
        "id": "yOYNU4rDu60d",
        "outputId": "c0115ef3-97b1-4bab-efb5-abacc72dddf6"
      },
      "source": [
        "# Load simple task\n",
        "task_file = str(task1)\n",
        "with open(task_file, 'r') as f:\n",
        "    task = json.load(f) #returns dictionary { 'test':[ {'input':[], 'output':[]} ], 'train':[ {'input':[], 'output':[]}, {}] }\n",
        "    plot_task(task)"
      ],
      "execution_count": 185,
      "outputs": [
        {
          "output_type": "display_data",
          "data": {
            "image/png": "[encoded data removed]",
            "text/plain": [
              "<Figure size 864x432 with 8 Axes>"
            ]
          },
          "metadata": {
            "needs_background": "light"
          }
        },
        {
          "output_type": "display_data",
          "data": {
            "image/png": "[encoded data removed]",
            "text/plain": [
              "<Figure size 216x432 with 2 Axes>"
            ]
          },
          "metadata": {
            "needs_background": "light"
          }
        }
      ]
    },
    {
      "cell_type": "markdown",
      "metadata": {
        "id": "PDJ_Kr-L7DAh"
      },
      "source": [
        "# Functions List"
      ]
    },
    {
      "cell_type": "code",
      "metadata": {
        "id": "syqOATd0BJje"
      },
      "source": [
        "#Sample image for testing function\n",
        "img = np.array(task['train'][0]['input'])"
      ],
      "execution_count": 186,
      "outputs": []
    },
    {
      "cell_type": "code",
      "metadata": {
        "id": "u0msMrSlu6sX"
      },
      "source": [
        "def plot_apply_function(imgs: [np.ndarray], function_name):\n",
        "    num_imgs = len(imgs)\n",
        "    mod_imgs = function_name(imgs)\n",
        "    fig, axs = plt.subplots(1, num_imgs)\n",
        "    if num_imgs == 1:\n",
        "        axs.imshow(mod_imgs[0], cmap=cmap, norm=norm)\n",
        "    else:\n",
        "      for i in range(num_imgs):     \n",
        "          axs[i].imshow(mod_imgs[i], cmap=cmap, norm=norm)\n",
        "        \n",
        "    plt.tight_layout()\n",
        "    plt.show()        \n",
        "\n",
        "\n",
        "# Following functions are of type [ndarray] -> [ndarray]\n",
        "#1\n",
        "def identity( imgs: [np.ndarray] ) -> [np.ndarray]:\n",
        "    '''Identical list of images'''\n",
        "    return imgs\n",
        "#2\n",
        "def rotate_90( imgs: [np.ndarray] ) -> [np.ndarray]:\n",
        "    '''Rotate list of images by 90 degrees anti-clockwise'''\n",
        "    return [ np.rot90(img) for img in imgs ]\n",
        "\n",
        "#3\n",
        "def flip_ud(imgs: [np.ndarray]) -> [np.ndarray]:\n",
        "    '''Flip up-down'''\n",
        "    return [np.flipud(img) for img in imgs] \n",
        "\n",
        "#4\n",
        "def flip_lr(imgs: [np.ndarray]) -> [np.ndarray]:\n",
        "    '''Flip left-right'''\n",
        "    return [np.fliplr(img) for img in imgs] \n",
        "\n",
        "#5\n",
        "def rollonce_lr(imgs: [np.ndarray]) -> [np.ndarray]:\n",
        "    '''Roll the axis once left to right'''\n",
        "    return [ np.roll(img, 1, 1) for img in imgs ]\n",
        "\n",
        "#6\n",
        "def rollonce_ud(imgs: [np.ndarray]) -> [np.ndarray]:\n",
        "    '''Roll the axis once left to right'''\n",
        "    return [ np.roll(img, 1, 0) for img in imgs ]\n",
        "#7\n",
        "# def rollaxis\n",
        "\n",
        "#8\n",
        "#def group_colours\n",
        "\n",
        "#9\n",
        "\n",
        "# def hstack(x: np.ndarray, y: np.ndarray) -> np.ndarray:\n",
        "#   return np.hstack((x,y))\n",
        "\n",
        "# def where(x: np.array, p: Color, q: Color) -> np.ndarray:\n",
        "#   return np.where(x==p.value, q.value, x)"
      ],
      "execution_count": 187,
      "outputs": []
    },
    {
      "cell_type": "code",
      "metadata": {
        "colab": {
          "base_uri": "https://localhost:8080/",
          "height": 423
        },
        "id": "d7rNOjvJEf0I",
        "outputId": "c3f1b643-4f78-4fcd-bc98-fe47923b21ac"
      },
      "source": [
        "plot_apply_function([img, img], identity)\n",
        "plot_apply_function([img, img], rollonce_ud)"
      ],
      "execution_count": 188,
      "outputs": [
        {
          "output_type": "display_data",
          "data": {
            "image/png": "[encoded data removed]",
            "text/plain": [
              "<Figure size 432x288 with 2 Axes>"
            ]
          },
          "metadata": {
            "needs_background": "light"
          }
        },
        {
          "output_type": "display_data",
          "data": {
            "image/png": "[encoded data removed]",
            "text/plain": [
              "<Figure size 432x288 with 2 Axes>"
            ]
          },
          "metadata": {
            "needs_background": "light"
          }
        }
      ]
    },
    {
      "cell_type": "markdown",
      "metadata": {
        "id": "H0jcgbj5xam2"
      },
      "source": [
        "# Expression Tree: Test"
      ]
    },
    {
      "cell_type": "code",
      "metadata": {
        "colab": {
          "base_uri": "https://localhost:8080/"
        },
        "id": "cXNdjppTWG0n",
        "outputId": "e6602e1d-88b8-4514-a165-547bfa843daf"
      },
      "source": [
        "!pip install deap"
      ],
      "execution_count": 189,
      "outputs": [
        {
          "output_type": "stream",
          "name": "stdout",
          "text": [
            "Requirement already satisfied: deap in /usr/local/lib/python3.7/dist-packages (1.3.1)\n",
            "Requirement already satisfied: numpy in /usr/local/lib/python3.7/dist-packages (from deap) (1.19.5)\n"
          ]
        }
      ]
    },
    {
      "cell_type": "code",
      "metadata": {
        "id": "fAFWiAzdV1D-"
      },
      "source": [
        "from deap.gp import PrimitiveSetTyped"
      ],
      "execution_count": 190,
      "outputs": []
    },
    {
      "cell_type": "code",
      "metadata": {
        "id": "mXWkoKRxu6f1"
      },
      "source": [
        "pset = PrimitiveSetTyped(\"main\", [list], list) # input and output of the expression is [np.ndarray]\n",
        "\n",
        "#add functions in the expression\n",
        "pset.addPrimitive(identity, [list], list)\n",
        "pset.addPrimitive(rotate_90, [list], list )\n",
        "pset.addPrimitive(flip_ud, [list], list)\n",
        "pset.addPrimitive(flip_lr, [list], list)\n",
        "pset.addPrimitive(rollonce_lr, [list], list)\n",
        "pset.addPrimitive(rollonce_ud, [list], list)\n"
      ],
      "execution_count": 191,
      "outputs": []
    },
    {
      "cell_type": "code",
      "metadata": {
        "id": "vcEdPw8ohDiu"
      },
      "source": [
        "pset.renameArguments(ARG0=\"x\")"
      ],
      "execution_count": 192,
      "outputs": []
    },
    {
      "cell_type": "code",
      "metadata": {
        "id": "MEJMfoGoixY9"
      },
      "source": [
        "from deap.gp import genFull, PrimitiveTree\n",
        "expr = genFull(pset, min_= 1, max_= 3)\n",
        "tree = PrimitiveTree(expr)"
      ],
      "execution_count": 193,
      "outputs": []
    },
    {
      "cell_type": "code",
      "metadata": {
        "colab": {
          "base_uri": "https://localhost:8080/",
          "height": 35
        },
        "id": "HbDxuTEtjHVu",
        "outputId": "adec9683-2a64-4dfc-cd3f-b59c6f2a0daa"
      },
      "source": [
        "str(tree)"
      ],
      "execution_count": 194,
      "outputs": [
        {
          "output_type": "execute_result",
          "data": {
            "application/vnd.google.colaboratory.intrinsic+json": {
              "type": "string"
            },
            "text/plain": [
              "'rotate_90(x)'"
            ]
          },
          "metadata": {},
          "execution_count": 194
        }
      ]
    },
    {
      "cell_type": "code",
      "metadata": {
        "id": "Og0TcsSXjals"
      },
      "source": [
        "import deap\n",
        "function = deap.gp.compile(tree, pset)"
      ],
      "execution_count": 195,
      "outputs": []
    },
    {
      "cell_type": "code",
      "metadata": {
        "colab": {
          "base_uri": "https://localhost:8080/",
          "height": 286
        },
        "id": "iYtibqGykDk7",
        "outputId": "9fe75267-be0e-47e1-d0c4-fe5a31f5595f"
      },
      "source": [
        "plt.imshow(function([img])[0], cmap=cmap, norm=norm)"
      ],
      "execution_count": 196,
      "outputs": [
        {
          "output_type": "execute_result",
          "data": {
            "text/plain": [
              "<matplotlib.image.AxesImage at 0x7f387e003610>"
            ]
          },
          "metadata": {},
          "execution_count": 196
        },
        {
          "output_type": "display_data",
          "data": {
            "image/png": "[encoded data removed]",
            "text/plain": [
              "<Figure size 432x288 with 1 Axes>"
            ]
          },
          "metadata": {
            "needs_background": "light"
          }
        }
      ]
    },
    {
      "cell_type": "code",
      "metadata": {
        "colab": {
          "base_uri": "https://localhost:8080/"
        },
        "id": "djiVB2kY2jM-",
        "outputId": "c851af21-b394-4371-c9f1-e5dc31b1d7a6"
      },
      "source": [
        "expr"
      ],
      "execution_count": 197,
      "outputs": [
        {
          "output_type": "execute_result",
          "data": {
            "text/plain": [
              "[<deap.gp.Primitive at 0x7f387dfe5a10>, <deap.gp.Terminal at 0x7f387e035b40>]"
            ]
          },
          "metadata": {},
          "execution_count": 197
        }
      ]
    },
    {
      "cell_type": "markdown",
      "metadata": {
        "id": "CkYnaAGwsnqB"
      },
      "source": [
        "# Genetic Algo"
      ]
    },
    {
      "cell_type": "code",
      "metadata": {
        "colab": {
          "base_uri": "https://localhost:8080/"
        },
        "id": "Hhp07h6gkNu7",
        "outputId": "fb059fb1-fc6c-4154-ec00-29086f8d515a"
      },
      "source": [
        "from deap import base\n",
        "from deap import gp\n",
        "from deap import creator\n",
        "from deap import tools\n",
        "from deap import algorithms\n",
        "\n",
        "\n",
        "import seaborn as sns\n",
        "\n",
        "# problem constants:\n",
        "\n",
        "# Genetic Algorithm constants:\n",
        "POPULATION_SIZE = 100\n",
        "P_CROSSOVER = 0.9  # probability for crossover\n",
        "P_MUTATION = 0.1   # probability for mutating an individual\n",
        "MAX_GENERATIONS = 50\n",
        "\n",
        "\n",
        "# set the random seed:\n",
        "RANDOM_SEED = 42\n",
        "random.seed(RANDOM_SEED)\n",
        "\n",
        "# define a single objective, maximizing fitness strategy:\n",
        "creator.create(\"FitnessMax\", base.Fitness, weights=(1.0,))\n",
        "\n",
        "# create the Individual class based on list:\n",
        "creator.create(\"Individual\", gp.PrimitiveTree, fitness=creator.FitnessMax, pset=pset)\n",
        "\n"
      ],
      "execution_count": 242,
      "outputs": [
        {
          "output_type": "stream",
          "name": "stderr",
          "text": [
            "/usr/local/lib/python3.7/dist-packages/deap/creator.py:141: RuntimeWarning: A class named 'FitnessMax' has already been created and it will be overwritten. Consider deleting previous creation of that class or rename it.\n",
            "  RuntimeWarning)\n",
            "/usr/local/lib/python3.7/dist-packages/deap/creator.py:141: RuntimeWarning: A class named 'Individual' has already been created and it will be overwritten. Consider deleting previous creation of that class or rename it.\n",
            "  RuntimeWarning)\n"
          ]
        }
      ]
    },
    {
      "cell_type": "code",
      "metadata": {
        "id": "21X_AsITunVr"
      },
      "source": [
        "toolbox = base.Toolbox()\n",
        "toolbox.register(\"expr\", gp.genHalfAndHalf, pset=pset, min_=1, max_=3)\n",
        "# create the individual operator to fill up an Individual instance:\n",
        "toolbox.register(\"individualCreator\", tools.initIterate, creator.Individual, toolbox.expr)\n",
        "toolbox.register(\"compile\", gp.compile, pset=pset)"
      ],
      "execution_count": 243,
      "outputs": []
    },
    {
      "cell_type": "markdown",
      "metadata": {
        "id": "jwrRFqU4vv5g"
      },
      "source": [
        "## Draw Sample Tree"
      ]
    },
    {
      "cell_type": "code",
      "metadata": {
        "colab": {
          "base_uri": "https://localhost:8080/"
        },
        "id": "w2e3rPZgwkpX",
        "outputId": "4cd85cc1-52f3-4059-a3d4-28f6cf4fd2ae"
      },
      "source": [
        "# graphviz is installed already, but need lib too\n",
        "!apt install libgraphviz-dev\n",
        "!pip install pygraphviz"
      ],
      "execution_count": 231,
      "outputs": [
        {
          "output_type": "stream",
          "name": "stdout",
          "text": [
            "Reading package lists... Done\n",
            "Building dependency tree       \n",
            "Reading state information... Done\n",
            "libgraphviz-dev is already the newest version (2.40.1-2).\n",
            "0 upgraded, 0 newly installed, 0 to remove and 37 not upgraded.\n",
            "Requirement already satisfied: pygraphviz in /usr/local/lib/python3.7/dist-packages (1.7)\n"
          ]
        }
      ]
    },
    {
      "cell_type": "code",
      "metadata": {
        "id": "YTNq2amuvZ3D"
      },
      "source": [
        "#draw tree\n",
        "expr = toolbox.individualCreator()\n",
        "nodes, edges, labels = gp.graph(expr)"
      ],
      "execution_count": 244,
      "outputs": []
    },
    {
      "cell_type": "code",
      "metadata": {
        "colab": {
          "base_uri": "https://localhost:8080/",
          "height": 248
        },
        "id": "lDWxlW_QvZtM",
        "outputId": "dadb640f-da4e-4f17-93f2-4a54634b7166"
      },
      "source": [
        "import matplotlib.pyplot as plt\n",
        "import networkx as nx\n",
        "from networkx.drawing.nx_agraph import graphviz_layout\n",
        "\n",
        "g = nx.Graph()\n",
        "g.add_nodes_from(nodes)\n",
        "g.add_edges_from(edges)\n",
        "pos = graphviz_layout(g, prog=\"dot\")\n",
        "\n",
        "nx.draw_networkx_nodes(g, pos)\n",
        "nx.draw_networkx_edges(g, pos)\n",
        "nx.draw_networkx_labels(g, pos, labels)\n",
        "plt.show()"
      ],
      "execution_count": 245,
      "outputs": [
        {
          "output_type": "display_data",
          "data": {
            "image/png": "[encoded data removed]",
            "text/plain": [
              "<Figure size 432x288 with 1 Axes>"
            ]
          },
          "metadata": {}
        }
      ]
    },
    {
      "cell_type": "markdown",
      "metadata": {
        "id": "7oPf01guzvr7"
      },
      "source": [
        "## Evaluate Individual Expression and Compute Fitness"
      ]
    },
    {
      "cell_type": "code",
      "metadata": {
        "id": "DPVnpc1n9Bw_"
      },
      "source": [
        "#input and output images\n",
        "imgs_in = []\n",
        "imgs_out = []\n",
        "for sample in task['train']:\n",
        "    imgs_in += [ np.array(sample['input']) ]\n",
        "    imgs_out += [ np.array(sample['output']) ]"
      ],
      "execution_count": 246,
      "outputs": []
    },
    {
      "cell_type": "code",
      "metadata": {
        "id": "yavMatT85_pu"
      },
      "source": [
        "# fitness calculation:\n",
        "# compute the number of '1's in the individual\n",
        "def evalFitness(individual):\n",
        "    func = toolbox.compile(expr=individual)\n",
        "    imgs_result = func(imgs_in)\n",
        "\n",
        "    score = 0\n",
        "    for i, im in enumerate(imgs_result):\n",
        "        if (im == imgs_out[i]).all(): # compare result image with output image\n",
        "            score +=1\n",
        "        elif im.shape == imgs_out[i].shape: # compute fraction of similarity\n",
        "            score += np.sum(im == imgs_out[i])/(np.prod(im.shape)) # matching_pixel_count / total_number_of_pixels\n",
        "\n",
        "        else:\n",
        "          score = 0\n",
        "    \n",
        "    return score/len(imgs_in), #take average of score #return a tuple"
      ],
      "execution_count": 247,
      "outputs": []
    },
    {
      "cell_type": "code",
      "metadata": {
        "colab": {
          "base_uri": "https://localhost:8080/",
          "height": 129
        },
        "id": "buspxFf6_wst",
        "outputId": "0769a862-3bcb-4af5-e073-56dda02a52f7"
      },
      "source": [
        "plot_apply_function(imgs_out, identity)"
      ],
      "execution_count": 237,
      "outputs": [
        {
          "output_type": "display_data",
          "data": {
            "image/png": "[encoded data removed]",
            "text/plain": [
              "<Figure size 432x288 with 4 Axes>"
            ]
          },
          "metadata": {
            "needs_background": "light"
          }
        }
      ]
    },
    {
      "cell_type": "markdown",
      "metadata": {
        "id": "T8acjmMQ2GWT"
      },
      "source": [
        "## Run GA"
      ]
    },
    {
      "cell_type": "code",
      "metadata": {
        "id": "d_4lNPXfxZZ1"
      },
      "source": [
        "# Fitness function\n",
        "toolbox.register(\"evaluate\", evalFitness)\n",
        "# create the population operator to generate a list of individuals:\n",
        "toolbox.register(\"populationCreator\", tools.initRepeat, list, toolbox.individualCreator)\n",
        "# Tournament selection with tournament size of 3:\n",
        "toolbox.register(\"select\", tools.selTournament, tournsize=3)\n",
        "# Single-point crossover:\n",
        "toolbox.register(\"mate\", tools.cxOnePoint)\n",
        "#Mutation:\n",
        "toolbox.register(\"expr_mut\", gp.genFull, min_=0, max_=2)\n",
        "toolbox.register(\"mutate\", gp.mutUniform, expr=toolbox.expr_mut, pset=pset)"
      ],
      "execution_count": 249,
      "outputs": []
    },
    {
      "cell_type": "code",
      "metadata": {
        "colab": {
          "base_uri": "https://localhost:8080/"
        },
        "id": "uW3HCDW8unH7",
        "outputId": "d0474e4c-2f24-474e-f1cd-9d129f2702c0"
      },
      "source": [
        "# create initial population (generation 0):\n",
        "population = toolbox.populationCreator(n=POPULATION_SIZE)\n",
        "\n",
        "# prepare the statistics object:\n",
        "stats = tools.Statistics(lambda ind: ind.fitness.values)\n",
        "stats.register(\"max\", np.max)\n",
        "stats.register(\"avg\", np.mean)\n",
        "\n",
        "# define the hall-of-fame object:\n",
        "hof = tools.HallOfFame(10)\n",
        "\n",
        "# perform the Genetic Algorithm flow with hof feature added:\n",
        "population, logbook = algorithms.eaSimple(population, toolbox, cxpb=P_CROSSOVER, mutpb=P_MUTATION, ngen=MAX_GENERATIONS, stats=stats, halloffame=hof, verbose=True)"
      ],
      "execution_count": 253,
      "outputs": [
        {
          "output_type": "stream",
          "name": "stdout",
          "text": [
            "gen\tnevals\tmax\tavg     \n",
            "0  \t100   \t1  \t0.636667\n",
            "1  \t88    \t1  \t0.711667\n",
            "2  \t92    \t1  \t0.771667\n",
            "3  \t90    \t1  \t0.827778\n",
            "4  \t86    \t1  \t0.922778\n",
            "5  \t92    \t1  \t0.966667\n",
            "6  \t98    \t1  \t0.953889\n",
            "7  \t88    \t1  \t0.977222\n",
            "8  \t92    \t1  \t0.99    \n",
            "9  \t91    \t1  \t0.977778\n",
            "10 \t86    \t1  \t0.967778\n",
            "11 \t97    \t1  \t0.959444\n",
            "12 \t90    \t1  \t0.965556\n",
            "13 \t91    \t1  \t0.962222\n",
            "14 \t96    \t1  \t0.974444\n",
            "15 \t89    \t1  \t0.959444\n",
            "16 \t80    \t1  \t0.986111\n",
            "17 \t98    \t1  \t0.981111\n",
            "18 \t85    \t1  \t0.96    \n",
            "19 \t96    \t1  \t0.962778\n",
            "20 \t81    \t1  \t0.983333\n",
            "21 \t91    \t1  \t0.943333\n",
            "22 \t90    \t1  \t0.976667\n",
            "23 \t91    \t1  \t0.963333\n",
            "24 \t98    \t1  \t0.975   \n",
            "25 \t84    \t1  \t0.969444\n",
            "26 \t95    \t1  \t0.982222\n",
            "27 \t93    \t1  \t0.952222\n",
            "28 \t93    \t1  \t0.962222\n",
            "29 \t92    \t1  \t0.962222\n",
            "30 \t90    \t1  \t0.971667\n",
            "31 \t95    \t1  \t0.962222\n",
            "32 \t91    \t1  \t0.977778\n",
            "33 \t92    \t1  \t0.98    \n",
            "34 \t95    \t1  \t0.991667\n",
            "35 \t97    \t1  \t0.944444\n",
            "36 \t93    \t1  \t0.961111\n",
            "37 \t92    \t1  \t0.99    \n",
            "38 \t93    \t1  \t0.96    \n",
            "39 \t92    \t1  \t0.958333\n",
            "40 \t95    \t1  \t0.97    \n",
            "41 \t89    \t1  \t0.966111\n",
            "42 \t94    \t1  \t0.973333\n",
            "43 \t91    \t1  \t0.95    \n",
            "44 \t96    \t1  \t0.975556\n",
            "45 \t88    \t1  \t0.96    \n",
            "46 \t94    \t1  \t0.975   \n",
            "47 \t81    \t1  \t0.968333\n",
            "48 \t91    \t1  \t0.95    \n",
            "49 \t92    \t1  \t0.977778\n",
            "50 \t87    \t1  \t0.96    \n"
          ]
        }
      ]
    },
    {
      "cell_type": "code",
      "metadata": {
        "colab": {
          "base_uri": "https://localhost:8080/",
          "height": 669
        },
        "id": "QZnOyVZxFHSX",
        "outputId": "6b14c762-bcb6-4c5f-9e39-181045e7ed1e"
      },
      "source": [
        "# print Hall of Fame info:\n",
        "print(\"Hall of Fame Individuals = \", *hof.items, sep=\"\\n\")\n",
        "print(\"Best Ever Individual = \", hof.items[0])\n",
        "\n",
        "# extract statistics:\n",
        "maxFitnessValues, meanFitnessValues = logbook.select(\"max\", \"avg\")\n",
        "\n",
        "# plot statistics:\n",
        "sns.set_style(\"whitegrid\")\n",
        "plt.plot(maxFitnessValues, color='red')\n",
        "plt.plot(meanFitnessValues, color='green')\n",
        "plt.xlabel('Generation')\n",
        "plt.ylabel('Max / Average Fitness')\n",
        "plt.title('Max and Average Fitness over Generations')\n",
        "\n",
        "plt.show()"
      ],
      "execution_count": 254,
      "outputs": [
        {
          "output_type": "stream",
          "name": "stdout",
          "text": [
            "Hall of Fame Individuals = \n",
            "rotate_90(flip_lr(flip_lr(x)))\n",
            "rotate_90(identity(identity(x)))\n",
            "identity(rotate_90(x))\n",
            "rotate_90(flip_ud(flip_ud(x)))\n",
            "rotate_90(x)\n",
            "identity(identity(rotate_90(x)))\n",
            "rotate_90(identity(x))\n",
            "flip_ud(flip_ud(flip_ud(x)))\n",
            "rotate_90(rotate_90(flip_lr(x)))\n",
            "flip_ud(identity(identity(x)))\n",
            "flip_ud(identity(x))\n",
            "rollonce_lr(rotate_90(flip_ud(x)))\n",
            "flip_lr(flip_ud(flip_lr(x)))\n",
            "rollonce_ud(flip_ud(rollonce_ud(x)))\n",
            "flip_ud(x)\n",
            "identity(flip_ud(x))\n",
            "rotate_90(rollonce_lr(flip_lr(x)))\n",
            "flip_ud(identity(rotate_90(x)))\n",
            "flip_ud(rotate_90(x))\n",
            "flip_ud(rotate_90(identity(x)))\n",
            "Best Ever Individual =  rotate_90(flip_lr(flip_lr(x)))\n"
          ]
        },
        {
          "output_type": "display_data",
          "data": {
            "image/png": "[encoded data removed]",
            "text/plain": [
              "<Figure size 432x288 with 1 Axes>"
            ]
          },
          "metadata": {}
        }
      ]
    },
    {
      "cell_type": "markdown",
      "metadata": {
        "id": "Pgq0CXYBUG0L"
      },
      "source": [
        "# Best Solution"
      ]
    },
    {
      "cell_type": "code",
      "metadata": {
        "colab": {
          "base_uri": "https://localhost:8080/"
        },
        "id": "Ns3ODuBVTv38",
        "outputId": "145cc0e6-cf48-4e4d-ac5b-7e60d6399c90"
      },
      "source": [
        "hof.items[0]"
      ],
      "execution_count": 255,
      "outputs": [
        {
          "output_type": "execute_result",
          "data": {
            "text/plain": [
              "[<deap.gp.Primitive at 0x7f387dfe5a10>,\n",
              " <deap.gp.Primitive at 0x7f387dfe5cb0>,\n",
              " <deap.gp.Primitive at 0x7f387dfe5cb0>,\n",
              " <deap.gp.Terminal at 0x7f387e035b40>]"
            ]
          },
          "metadata": {},
          "execution_count": 255
        }
      ]
    },
    {
      "cell_type": "code",
      "metadata": {
        "id": "yTjIfTecUDIx"
      },
      "source": [
        "func = toolbox.compile(expr=hof.items[0])\n",
        "final_result = func(imgs_in)"
      ],
      "execution_count": 256,
      "outputs": []
    },
    {
      "cell_type": "code",
      "metadata": {
        "colab": {
          "base_uri": "https://localhost:8080/",
          "height": 129
        },
        "id": "ZUbdqz3BVZNQ",
        "outputId": "011e6f3c-6902-443c-cad5-cf8be24d43ef"
      },
      "source": [
        "plot_apply_function(imgs_out, identity) # Output of training data"
      ],
      "execution_count": 257,
      "outputs": [
        {
          "output_type": "display_data",
          "data": {
            "image/png": "[encoded data removed]",
            "text/plain": [
              "<Figure size 432x288 with 4 Axes>"
            ]
          },
          "metadata": {}
        }
      ]
    },
    {
      "cell_type": "code",
      "metadata": {
        "colab": {
          "base_uri": "https://localhost:8080/",
          "height": 129
        },
        "id": "tyPTtviVVdub",
        "outputId": "4ee004d1-bab9-42bb-ba0d-8886ad181930"
      },
      "source": [
        "plot_apply_function(final_result, identity) #Final Result from Genetic Algo"
      ],
      "execution_count": 258,
      "outputs": [
        {
          "output_type": "display_data",
          "data": {
            "image/png": "[encoded data removed]",
            "text/plain": [
              "<Figure size 432x288 with 4 Axes>"
            ]
          },
          "metadata": {}
        }
      ]
    },
    {
      "cell_type": "markdown",
      "metadata": {
        "id": "7QRgao81VsH2"
      },
      "source": [
        "# Test"
      ]
    },
    {
      "cell_type": "code",
      "metadata": {
        "id": "XCslzFuHVtGg"
      },
      "source": [
        "test_in = []\n",
        "test_out = []\n",
        "for sample in task['test']:\n",
        "    test_in += [ np.array(sample['input']) ]\n",
        "    test_out += [ np.array(sample['output']) ]"
      ],
      "execution_count": 259,
      "outputs": []
    },
    {
      "cell_type": "code",
      "metadata": {
        "colab": {
          "base_uri": "https://localhost:8080/"
        },
        "id": "suIAEBL7WY4d",
        "outputId": "c3901f66-e8c6-41ce-ad5b-d4bea0fbabcc"
      },
      "source": [
        "test_in"
      ],
      "execution_count": 260,
      "outputs": [
        {
          "output_type": "execute_result",
          "data": {
            "text/plain": [
              "[array([[0, 0, 0],\n",
              "        [5, 0, 0],\n",
              "        [0, 5, 5]])]"
            ]
          },
          "metadata": {},
          "execution_count": 260
        }
      ]
    },
    {
      "cell_type": "code",
      "metadata": {
        "id": "GIhp6TsdWaJR"
      },
      "source": [
        "test_result = func(test_in)"
      ],
      "execution_count": 261,
      "outputs": []
    },
    {
      "cell_type": "code",
      "metadata": {
        "colab": {
          "base_uri": "https://localhost:8080/",
          "height": 297
        },
        "id": "to2QT1DeWhfU",
        "outputId": "22a3c93f-391c-4a9b-ea7c-efbb53c9b507"
      },
      "source": [
        "plot_apply_function(test_in, identity) # Input test Data"
      ],
      "execution_count": 262,
      "outputs": [
        {
          "output_type": "display_data",
          "data": {
            "image/png": "[encoded data removed]",
            "text/plain": [
              "<Figure size 432x288 with 1 Axes>"
            ]
          },
          "metadata": {}
        }
      ]
    },
    {
      "cell_type": "code",
      "metadata": {
        "colab": {
          "base_uri": "https://localhost:8080/",
          "height": 297
        },
        "id": "C_jLrj4tWmwn",
        "outputId": "c3555f2f-fbce-45cc-9c8c-4be1315dfd99"
      },
      "source": [
        "plot_apply_function(test_out, identity) # Actual test result"
      ],
      "execution_count": 263,
      "outputs": [
        {
          "output_type": "display_data",
          "data": {
            "image/png": "[encoded data removed]",
            "text/plain": [
              "<Figure size 432x288 with 1 Axes>"
            ]
          },
          "metadata": {}
        }
      ]
    },
    {
      "cell_type": "code",
      "metadata": {
        "colab": {
          "base_uri": "https://localhost:8080/",
          "height": 297
        },
        "id": "4ArEokVNWp74",
        "outputId": "91cfe052-f84a-4b2c-cafb-8de50cab21f8"
      },
      "source": [
        "plot_apply_function(test_result, identity) # Test result from GA Solution"
      ],
      "execution_count": 264,
      "outputs": [
        {
          "output_type": "display_data",
          "data": {
            "image/png": "[encoded data removed]",
            "text/plain": [
              "<Figure size 432x288 with 1 Axes>"
            ]
          },
          "metadata": {}
        }
      ]
    },
    {
      "cell_type": "code",
      "metadata": {
        "id": "fRrSIRt6Wv2J"
      },
      "source": [
        ""
      ],
      "execution_count": null,
      "outputs": []
    }
  ]
}